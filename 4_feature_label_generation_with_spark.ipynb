{
 "cells": [
  {
   "cell_type": "markdown",
   "metadata": {},
   "source": [
    "# Load data into Spark DataFrame"
   ]
  },
  {
   "cell_type": "code",
   "execution_count": 115,
   "metadata": {
    "collapsed": true
   },
   "outputs": [],
   "source": [
    "from pyspark import SparkContext"
   ]
  },
  {
   "cell_type": "code",
   "execution_count": 116,
   "metadata": {
    "collapsed": true
   },
   "outputs": [],
   "source": [
    "import pyspark.sql.functions as F"
   ]
  },
  {
   "cell_type": "code",
   "execution_count": 117,
   "metadata": {
    "collapsed": true
   },
   "outputs": [],
   "source": [
    "# We use matplotlib for plotting\n",
    "import matplotlib.pyplot as plt\n",
    "\n",
    "# This statement allow to display plot without asking to\n",
    "%matplotlib inline"
   ]
  },
  {
   "cell_type": "code",
   "execution_count": 118,
   "metadata": {},
   "outputs": [
    {
     "name": "stdout",
     "output_type": "stream",
     "text": [
      "Welcome to\n",
      "      ____              __\n",
      "     / __/__  ___ _____/ /__\n",
      "    _\\ \\/ _ \\/ _ `/ __/  '_/\n",
      "   /__ / .__/\\_,_/_/ /_/\\_\\   version 2.3.0\n",
      "      /_/\n",
      "\n",
      "Using Python version 3.6.3 (default, Oct  6 2017 12:04:38)\n",
      "SparkSession available as 'spark'.\n"
     ]
    }
   ],
   "source": [
    "import os\n",
    "exec(open(os.path.join(os.environ[\"SPARK_HOME\"], 'python/pyspark/shell.py')).read())"
   ]
  },
  {
   "cell_type": "code",
   "execution_count": 119,
   "metadata": {},
   "outputs": [
    {
     "data": {
      "text/plain": [
       "DataFrame[uid: string, event: string, song_id: string, date: string]"
      ]
     },
     "execution_count": 119,
     "metadata": {},
     "output_type": "execute_result"
    }
   ],
   "source": [
    "df = spark.read.csv('../data/event_ds.csv',header=True).cache()\n",
    "df"
   ]
  },
  {
   "cell_type": "code",
   "execution_count": 120,
   "metadata": {},
   "outputs": [
    {
     "name": "stdout",
     "output_type": "stream",
     "text": [
      "+---------+-----+--------+----------+\n",
      "|      uid|event| song_id|      date|\n",
      "+---------+-----+--------+----------+\n",
      "|168544926|    P| 4403788|2017-03-30|\n",
      "|168532580|    P|21762903|2017-03-30|\n",
      "|168551156|    P|  313037|2017-03-30|\n",
      "|168530895|    P|       0|2017-03-30|\n",
      "|168550572|    P| 4297299|2017-03-30|\n",
      "|168548493|    P| 6661513|2017-03-30|\n",
      "|168532580|    P|21762903|2017-03-30|\n",
      "|168547857|    P| 4356304|2017-03-30|\n",
      "|168551156|    P|  237508|2017-03-30|\n",
      "|168548493|    P|19586155|2017-03-30|\n",
      "|168542653|    P|  133095|2017-03-30|\n",
      "|168549973|    P| 3194852|2017-03-30|\n",
      "|168551524|    P| 6635279|2017-03-30|\n",
      "|168548493|    P|20671123|2017-03-30|\n",
      "|168548945|    P|20429929|2017-03-30|\n",
      "|168550532|    P|   79479|2017-03-30|\n",
      "|168549948|    P|23082492|2017-03-30|\n",
      "|168548493|    P| 4371507|2017-03-30|\n",
      "|168549973|    P| 6461995|2017-03-30|\n",
      "|168548493|    P| 4646566|2017-03-30|\n",
      "+---------+-----+--------+----------+\n",
      "only showing top 20 rows\n",
      "\n"
     ]
    }
   ],
   "source": [
    "df.show()"
   ]
  },
  {
   "cell_type": "code",
   "execution_count": 121,
   "metadata": {},
   "outputs": [
    {
     "data": {
      "text/plain": [
       "DataFrame[uid: string, event: string, song_id: string, date: date]"
      ]
     },
     "execution_count": 121,
     "metadata": {},
     "output_type": "execute_result"
    }
   ],
   "source": [
    "# create new or overwrite original field with withColumn\n",
    "df = df.withColumn('date',F.col('date').cast('date'))\n",
    "df"
   ]
  },
  {
   "cell_type": "code",
   "execution_count": 122,
   "metadata": {},
   "outputs": [
    {
     "name": "stdout",
     "output_type": "stream",
     "text": [
      "+---------+-----+--------+----------+\n",
      "|      uid|event| song_id|      date|\n",
      "+---------+-----+--------+----------+\n",
      "|168544926|    P| 4403788|2017-03-30|\n",
      "|168532580|    P|21762903|2017-03-30|\n",
      "|168551156|    P|  313037|2017-03-30|\n",
      "|168530895|    P|       0|2017-03-30|\n",
      "|168550572|    P| 4297299|2017-03-30|\n",
      "|168548493|    P| 6661513|2017-03-30|\n",
      "|168532580|    P|21762903|2017-03-30|\n",
      "|168547857|    P| 4356304|2017-03-30|\n",
      "|168551156|    P|  237508|2017-03-30|\n",
      "|168548493|    P|19586155|2017-03-30|\n",
      "|168542653|    P|  133095|2017-03-30|\n",
      "|168549973|    P| 3194852|2017-03-30|\n",
      "|168551524|    P| 6635279|2017-03-30|\n",
      "|168548493|    P|20671123|2017-03-30|\n",
      "|168548945|    P|20429929|2017-03-30|\n",
      "|168550532|    P|   79479|2017-03-30|\n",
      "|168549948|    P|23082492|2017-03-30|\n",
      "|168548493|    P| 4371507|2017-03-30|\n",
      "|168549973|    P| 6461995|2017-03-30|\n",
      "|168548493|    P| 4646566|2017-03-30|\n",
      "+---------+-----+--------+----------+\n",
      "only showing top 20 rows\n",
      "\n"
     ]
    }
   ],
   "source": [
    "df.show()"
   ]
  },
  {
   "cell_type": "markdown",
   "metadata": {},
   "source": [
    "# Some exploration"
   ]
  },
  {
   "cell_type": "code",
   "execution_count": 123,
   "metadata": {},
   "outputs": [
    {
     "data": {
      "text/plain": [
       "12144072"
      ]
     },
     "execution_count": 123,
     "metadata": {},
     "output_type": "execute_result"
    }
   ],
   "source": [
    "# simple count rows\n",
    "df.count()"
   ]
  },
  {
   "cell_type": "code",
   "execution_count": 124,
   "metadata": {},
   "outputs": [
    {
     "data": {
      "text/plain": [
       "59552"
      ]
     },
     "execution_count": 124,
     "metadata": {},
     "output_type": "execute_result"
    }
   ],
   "source": [
    "# select operation, count distinct rows\n",
    "df.select('uid').distinct().count()"
   ]
  },
  {
   "cell_type": "code",
   "execution_count": 125,
   "metadata": {},
   "outputs": [
    {
     "name": "stdout",
     "output_type": "stream",
     "text": [
      "+-----+--------+\n",
      "|event|   count|\n",
      "+-----+--------+\n",
      "|    D|  624508|\n",
      "|    S|  769251|\n",
      "|    P|10750313|\n",
      "+-----+--------+\n",
      "\n"
     ]
    }
   ],
   "source": [
    "# group by aggregation\n",
    "df.groupBy('event').count().show()"
   ]
  },
  {
   "cell_type": "code",
   "execution_count": 126,
   "metadata": {},
   "outputs": [
    {
     "name": "stdout",
     "output_type": "stream",
     "text": [
      "+-----+--------+--------+\n",
      "|event|   count| max_uid|\n",
      "+-----+--------+--------+\n",
      "|    D|  624508|99725077|\n",
      "|    S|  769251|99725077|\n",
      "|    P|10750313|99980028|\n",
      "+-----+--------+--------+\n",
      "\n"
     ]
    }
   ],
   "source": [
    "# group by aggregation, more general (count, min, max, mean), multiple at once\n",
    "df.groupBy('event').agg(\n",
    "    F.count(F.col('uid')).alias('count'),\n",
    "    F.max(F.col('uid')).alias('max_uid')).show()"
   ]
  },
  {
   "cell_type": "code",
   "execution_count": null,
   "metadata": {
    "collapsed": true
   },
   "outputs": [],
   "source": []
  },
  {
   "cell_type": "code",
   "execution_count": 127,
   "metadata": {},
   "outputs": [
    {
     "name": "stdout",
     "output_type": "stream",
     "text": [
      "+----------+-----+------+\n",
      "|      date|event| count|\n",
      "+----------+-----+------+\n",
      "|2017-04-01|    D| 32079|\n",
      "|2017-04-01|    P|480775|\n",
      "|2017-04-01|    S| 32858|\n",
      "|2017-04-02|    D| 26269|\n",
      "|2017-04-02|    P|437148|\n",
      "|2017-04-02|    S| 31119|\n",
      "|2017-04-03|    D| 20864|\n",
      "|2017-04-03|    P|259853|\n",
      "|2017-04-03|    S| 26954|\n",
      "|2017-04-04|    D| 21722|\n",
      "|2017-04-04|    P|384851|\n",
      "|2017-04-04|    S| 25312|\n",
      "|2017-04-05|    D| 16068|\n",
      "|2017-04-05|    P|307236|\n",
      "|2017-04-05|    S| 20061|\n",
      "+----------+-----+------+\n",
      "\n"
     ]
    }
   ],
   "source": [
    "# filter operation\n",
    "# group by aggregation\n",
    "# order by operation\n",
    "df.filter((F.col('date')>='2017-04-01') & (F.col('date')<='2017-04-05')) \\\n",
    "                    .groupBy('date','event').count() \\\n",
    "                    .orderBy('date','event').show()"
   ]
  },
  {
   "cell_type": "code",
   "execution_count": 128,
   "metadata": {
    "collapsed": true
   },
   "outputs": [],
   "source": [
    "date_count = df.groupBy('date').count().toPandas()"
   ]
  },
  {
   "cell_type": "code",
   "execution_count": 129,
   "metadata": {},
   "outputs": [
    {
     "data": {
      "text/plain": [
       "(array([ 736419.,  736426.,  736433.,  736440.,  736447.,  736454.,  736461.]),\n",
       " <a list of 7 Text xticklabel objects>)"
      ]
     },
     "execution_count": 129,
     "metadata": {},
     "output_type": "execute_result"
    },
    {
     "data": {
      "image/png": "[encoded data removed]",
      "text/plain": [
       "<matplotlib.figure.Figure at 0x118d17828>"
      ]
     },
     "metadata": {},
     "output_type": "display_data"
    }
   ],
   "source": [
    "plt.bar(date_count['date'],date_count['count'])\n",
    "plt.xticks(rotation='vertical')"
   ]
  },
  {
   "cell_type": "markdown",
   "metadata": {},
   "source": [
    "# Label definition"
   ]
  },
  {
   "cell_type": "code",
   "execution_count": 130,
   "metadata": {},
   "outputs": [
    {
     "name": "stdout",
     "output_type": "stream",
     "text": [
      "label window: 2017-04-29 ~ 2017-05-12 days: 14\n",
      "feature window: 2017-03-30 ~ 2017-04-28 days: 30\n"
     ]
    }
   ],
   "source": [
    "import datetime\n",
    "from dateutil import parser\n",
    "\n",
    "label_window_size = 14\n",
    "label_window_end_date = parser.parse('2017-05-12').date()\n",
    "label_window_start_date = label_window_end_date - datetime.timedelta(label_window_size - 1)\n",
    "print('label window:',label_window_start_date,'~',label_window_end_date,'days:',label_window_size)\n",
    "\n",
    "feature_window_size = 30\n",
    "feature_window_end_date = label_window_start_date - datetime.timedelta(1)\n",
    "feature_window_start_date = feature_window_end_date  - datetime.timedelta(feature_window_size - 1)\n",
    "print('feature window:',feature_window_start_date,'~',feature_window_end_date,'days:',feature_window_size)\n"
   ]
  },
  {
   "cell_type": "code",
   "execution_count": 131,
   "metadata": {},
   "outputs": [
    {
     "data": {
      "text/plain": [
       "datetime.timedelta(13)"
      ]
     },
     "execution_count": 131,
     "metadata": {},
     "output_type": "execute_result"
    }
   ],
   "source": [
    "label_window_end_date - label_window_start_date"
   ]
  },
  {
   "cell_type": "code",
   "execution_count": 132,
   "metadata": {
    "collapsed": true
   },
   "outputs": [],
   "source": [
    "# all the uid we will model\n",
    "df_model_uid = df.filter((F.col('date')>=feature_window_start_date) & (F.col('date')<=feature_window_end_date))\\\n",
    "                    .select('uid').distinct()\n",
    "# active in label window (active label=0)\n",
    "df_active_uid_in_label_window = df.filter((F.col('date')>=label_window_start_date) & (F.col('date')<=label_window_end_date))\\\n",
    "                            .select('uid').distinct().withColumn('label',F.lit(0))"
   ]
  },
  {
   "cell_type": "code",
   "execution_count": 133,
   "metadata": {
    "collapsed": true
   },
   "outputs": [],
   "source": [
    "# prepare label data (churn label=1; active label=0)\n",
    "df_label = df_model_uid.join(df_active_uid_in_label_window,on=['uid'],how='left')\n",
    "df_label = df_label.fillna(1)"
   ]
  },
  {
   "cell_type": "code",
   "execution_count": 134,
   "metadata": {},
   "outputs": [
    {
     "name": "stdout",
     "output_type": "stream",
     "text": [
      "+-----+-----+\n",
      "|label|count|\n",
      "+-----+-----+\n",
      "|    1|36350|\n",
      "|    0|21864|\n",
      "+-----+-----+\n",
      "\n"
     ]
    }
   ],
   "source": [
    "df_label.groupBy('label').count().show()"
   ]
  },
  {
   "cell_type": "markdown",
   "metadata": {},
   "source": [
    "# Feature generation"
   ]
  },
  {
   "cell_type": "code",
   "execution_count": 135,
   "metadata": {
    "collapsed": true
   },
   "outputs": [],
   "source": [
    "# event_data in feature_window\n",
    "df_feature_window = df.filter((F.col('date')>=feature_window_start_date) & (F.col('date')<=feature_window_end_date))"
   ]
  },
  {
   "cell_type": "markdown",
   "metadata": {},
   "source": [
    "### Frequency features"
   ]
  },
  {
   "cell_type": "markdown",
   "metadata": {},
   "source": [
    "##### method 1"
   ]
  },
  {
   "cell_type": "code",
   "execution_count": 136,
   "metadata": {
    "collapsed": true
   },
   "outputs": [],
   "source": [
    "# define a function to generate frequency features\n",
    "def frequency_feature_generation(df,event,time_window,snapshot_date):\n",
    "    \"\"\"\n",
    "    generate frequency features for one event type and one time window\n",
    "    \"\"\"\n",
    "    df_feature = df.filter(F.col('event')==event)\\\n",
    "            .filter((F.col('date')>=snapshot_date-datetime.timedelta(time_window-1)) & (F.col('date')<=snapshot_date))\\\n",
    "            .groupBy('uid').agg(F.count(F.col('uid')).alias('freq_'+event+'_last_'+str(time_window)))\n",
    "    return df_feature"
   ]
  },
  {
   "cell_type": "code",
   "execution_count": 137,
   "metadata": {
    "collapsed": true
   },
   "outputs": [],
   "source": [
    "# generate one feature\n",
    "event = 'S'\n",
    "time_window = 3\n",
    "snapshot_date = feature_window_end_date\n",
    "df_feature = frequency_feature_generation(df_feature_window,event,time_window,snapshot_date)"
   ]
  },
  {
   "cell_type": "code",
   "execution_count": 138,
   "metadata": {},
   "outputs": [
    {
     "name": "stdout",
     "output_type": "stream",
     "text": [
      "+---------+-------------+\n",
      "|      uid|freq_S_last_3|\n",
      "+---------+-------------+\n",
      "|167755445|            1|\n",
      "|168227697|            5|\n",
      "|168338727|           13|\n",
      "|168278023|            1|\n",
      "|168599918|            1|\n",
      "+---------+-------------+\n",
      "only showing top 5 rows\n",
      "\n"
     ]
    }
   ],
   "source": [
    "df_feature.show(5)"
   ]
  },
  {
   "cell_type": "code",
   "execution_count": 139,
   "metadata": {
    "collapsed": true
   },
   "outputs": [],
   "source": [
    "# generate frequency features for all event_list, time_window_list\n",
    "event_list = ['P','D','S']\n",
    "time_window_list = [1,3,7,14,30]\n",
    "df_feature_list = []\n",
    "for event in event_list:\n",
    "    for time_window in time_window_list:\n",
    "        df_feature_list.append(frequency_feature_generation(df_feature_window,event,time_window,snapshot_date))\n"
   ]
  },
  {
   "cell_type": "code",
   "execution_count": 140,
   "metadata": {},
   "outputs": [
    {
     "data": {
      "text/plain": [
       "[DataFrame[uid: string, freq_P_last_1: bigint],\n",
       " DataFrame[uid: string, freq_P_last_3: bigint],\n",
       " DataFrame[uid: string, freq_P_last_7: bigint],\n",
       " DataFrame[uid: string, freq_P_last_14: bigint],\n",
       " DataFrame[uid: string, freq_P_last_30: bigint],\n",
       " DataFrame[uid: string, freq_D_last_1: bigint],\n",
       " DataFrame[uid: string, freq_D_last_3: bigint],\n",
       " DataFrame[uid: string, freq_D_last_7: bigint],\n",
       " DataFrame[uid: string, freq_D_last_14: bigint],\n",
       " DataFrame[uid: string, freq_D_last_30: bigint],\n",
       " DataFrame[uid: string, freq_S_last_1: bigint],\n",
       " DataFrame[uid: string, freq_S_last_3: bigint],\n",
       " DataFrame[uid: string, freq_S_last_7: bigint],\n",
       " DataFrame[uid: string, freq_S_last_14: bigint],\n",
       " DataFrame[uid: string, freq_S_last_30: bigint]]"
      ]
     },
     "execution_count": 140,
     "metadata": {},
     "output_type": "execute_result"
    }
   ],
   "source": [
    "df_feature_list"
   ]
  },
  {
   "cell_type": "markdown",
   "metadata": {},
   "source": [
    "##### method 2: too many dfs to join? do it another way"
   ]
  },
  {
   "cell_type": "code",
   "execution_count": 141,
   "metadata": {
    "collapsed": true
   },
   "outputs": [],
   "source": [
    "# define a function to generate frequency features for a list of time windows\n",
    "# using when().otherwise(), and list comprehension trick!\n",
    "def frequency_feature_generation_time_windows(df,event,time_window_list,snapshot_date):\n",
    "    \"\"\"\n",
    "    generate frequency features for one event type and a list of time windows\n",
    "    \"\"\"\n",
    "    df_feature = df \\\n",
    "        .filter(F.col('event')==event) \\\n",
    "        .groupBy('uid') \\\n",
    "        .agg(*[F.sum(F.when((F.col('date')>=snapshot_date-datetime.timedelta(time_window-1)) & (F.col('date')<=snapshot_date),1).otherwise(0)).alias('freq_'+event+'_last_'+str(time_window)) \\\n",
    "                for time_window in time_window_list]\n",
    "            )# *[] opens list and make them comma separated\n",
    "    return df_feature"
   ]
  },
  {
   "cell_type": "code",
   "execution_count": 142,
   "metadata": {},
   "outputs": [
    {
     "name": "stdout",
     "output_type": "stream",
     "text": [
      "+---------+-------------+-------------+-------------+--------------+--------------+\n",
      "|      uid|freq_S_last_1|freq_S_last_3|freq_S_last_7|freq_S_last_14|freq_S_last_30|\n",
      "+---------+-------------+-------------+-------------+--------------+--------------+\n",
      "|167899951|            0|            0|            1|             4|            10|\n",
      "|167718831|            8|            8|           14|            29|           129|\n",
      "|167947371|            0|            0|            3|            11|            37|\n",
      "|167573813|            0|            0|            7|             7|            13|\n",
      "|167956762|            0|            0|            0|             0|            12|\n",
      "+---------+-------------+-------------+-------------+--------------+--------------+\n",
      "only showing top 5 rows\n",
      "\n"
     ]
    }
   ],
   "source": [
    "# generate one event type, all time windows \n",
    "event = 'S'\n",
    "time_window_list = [1,3,7,14,30]\n",
    "snapshot_date = feature_window_end_date\n",
    "df_feature = frequency_feature_generation_time_windows(df_feature_window,event,time_window_list,snapshot_date)\n",
    "df_feature.show(5)"
   ]
  },
  {
   "cell_type": "code",
   "execution_count": 143,
   "metadata": {
    "collapsed": true
   },
   "outputs": [],
   "source": [
    "# generate frequency features for all event_list, time_window_list\n",
    "event_list = ['P','D','S']\n",
    "time_window_list = [1,3,7,14,30]\n",
    "df_feature_list = []\n",
    "for event in event_list:\n",
    "    df_feature_list.append(frequency_feature_generation_time_windows(df_feature_window,event,time_window_list,snapshot_date))\n"
   ]
  },
  {
   "cell_type": "code",
   "execution_count": 144,
   "metadata": {},
   "outputs": [
    {
     "data": {
      "text/plain": [
       "[DataFrame[uid: string, freq_P_last_1: bigint, freq_P_last_3: bigint, freq_P_last_7: bigint, freq_P_last_14: bigint, freq_P_last_30: bigint],\n",
       " DataFrame[uid: string, freq_D_last_1: bigint, freq_D_last_3: bigint, freq_D_last_7: bigint, freq_D_last_14: bigint, freq_D_last_30: bigint],\n",
       " DataFrame[uid: string, freq_S_last_1: bigint, freq_S_last_3: bigint, freq_S_last_7: bigint, freq_S_last_14: bigint, freq_S_last_30: bigint]]"
      ]
     },
     "execution_count": 144,
     "metadata": {},
     "output_type": "execute_result"
    }
   ],
   "source": [
    "df_feature_list"
   ]
  },
  {
   "cell_type": "markdown",
   "metadata": {},
   "source": [
    "### Recency features"
   ]
  },
  {
   "cell_type": "code",
   "execution_count": 145,
   "metadata": {},
   "outputs": [
    {
     "name": "stdout",
     "output_type": "stream",
     "text": [
      "+---------+------+--------+----------+---------+-----------+\n",
      "|      uid|device| song_id|      date|play_time|song_length|\n",
      "+---------+------+--------+----------+---------+-----------+\n",
      "|168544926|    ar| 4403788|2017-03-30|        6|         28|\n",
      "|168532580|    ar|21762903|2017-03-30|       67|        137|\n",
      "|168551156|    ar|  313037|2017-03-30|        0|        274|\n",
      "|168530895|    ar|       0|2017-03-30|      264|        265|\n",
      "|168550572|    ar| 4297299|2017-03-30|       11|        272|\n",
      "+---------+------+--------+----------+---------+-----------+\n",
      "only showing top 5 rows\n",
      "\n"
     ]
    }
   ],
   "source": [
    "# defined as days from last event\n",
    "# can generate one feature for each type of event\n",
    "df_play = spark.read.csv('../data/play_ds.csv',header=True)\n",
    "df_down = spark.read.csv('../data/down_ds.csv',header=True)\n",
    "df_search = spark.read.csv('../data/search_ds.csv',header=True)\n",
    "df_play = df_play.withColumn('date',F.col('date').cast('date'))\n",
    "df_down = df_down.withColumn('date',F.col('date').cast('date'))\n",
    "df_search = df_search.withColumn('date',F.col('date').cast('date'))\n",
    "df_play.show(5)\n",
    "df_play_feature_window = df_play.filter((F.col('date')>=feature_window_start_date) & (F.col('date')<=feature_window_end_date))\n",
    "df_down_feature_window = df_down.filter((F.col('date')>=feature_window_start_date) & (F.col('date')<=feature_window_end_date))\n",
    "df_search_feature_window = df_search.filter((F.col('date')>=feature_window_start_date) & (F.col('date')<=feature_window_end_date))"
   ]
  },
  {
   "cell_type": "code",
   "execution_count": 146,
   "metadata": {},
   "outputs": [
    {
     "data": {
      "text/plain": [
       "DataFrame[uid: string, device: string, song_id: string, date: date, play_time: string, song_length: string]"
      ]
     },
     "execution_count": 146,
     "metadata": {},
     "output_type": "execute_result"
    }
   ],
   "source": [
    "df_play_feature_window"
   ]
  },
  {
   "cell_type": "code",
   "execution_count": 147,
   "metadata": {
    "collapsed": true
   },
   "outputs": [],
   "source": [
    "from pyspark.sql.functions import lit\n",
    "timeFmt = \"yyyy-MM-dd\"\n",
    "df_play_tmp = df_play_feature_window.groupBy('uid').agg(F.max(F.col('date')).alias('most_recent_play_date'))\n",
    "df_down_tmp = df_down_feature_window.groupBy('uid').agg(F.max(F.col('date')).alias('most_recent_down_date'))\n",
    "df_search_tmp = df_search_feature_window.groupBy('uid').agg(F.max(F.col('date')).alias('most_recent_search_date'))\n",
    "df_play_tmp = df_play_tmp.withColumn('last_play_date', lit(label_window_start_date))\n",
    "df_down_tmp = df_down_tmp.withColumn('last_down_date', lit(label_window_start_date))\n",
    "df_search_tmp = df_search_tmp.withColumn('last_search_date', lit(label_window_start_date))"
   ]
  },
  {
   "cell_type": "code",
   "execution_count": 148,
   "metadata": {
    "collapsed": true
   },
   "outputs": [],
   "source": [
    "timeDiff = - (F.unix_timestamp('most_recent_play_date', format=timeFmt) - F.unix_timestamp('last_play_date', format=timeFmt))\n",
    "df_play_tmp = df_play_tmp.withColumn('play_recency', timeDiff)\n",
    "timeDiff = - (F.unix_timestamp('most_recent_down_date', format=timeFmt) - F.unix_timestamp('last_down_date', format=timeFmt))\n",
    "df_down_tmp = df_down_tmp.withColumn('down_recency', timeDiff)\n",
    "timeDiff = - (F.unix_timestamp('most_recent_search_date', format=timeFmt) - F.unix_timestamp('last_search_date', format=timeFmt))\n",
    "df_search_tmp = df_search_tmp.withColumn('search_recency', timeDiff)"
   ]
  },
  {
   "cell_type": "code",
   "execution_count": 149,
   "metadata": {},
   "outputs": [
    {
     "name": "stdout",
     "output_type": "stream",
     "text": [
      "+-----------------+\n",
      "|max(play_recency)|\n",
      "+-----------------+\n",
      "|          2592000|\n",
      "+-----------------+\n",
      "\n",
      "+-----------------+\n",
      "|max(down_recency)|\n",
      "+-----------------+\n",
      "|          2592000|\n",
      "+-----------------+\n",
      "\n",
      "+-------------------+\n",
      "|max(search_recency)|\n",
      "+-------------------+\n",
      "|            2592000|\n",
      "+-------------------+\n",
      "\n"
     ]
    }
   ],
   "source": [
    "df_play_tmp.agg(F.max(F.col('play_recency'))).show()\n",
    "df_down_tmp.agg(F.max(F.col('down_recency'))).show()\n",
    "df_search_tmp.agg(F.max(F.col('search_recency'))).show()"
   ]
  },
  {
   "cell_type": "code",
   "execution_count": 150,
   "metadata": {},
   "outputs": [
    {
     "data": {
      "text/plain": [
       "DataFrame[uid: string, most_recent_search_date: date, last_search_date: date, search_recency: bigint]"
      ]
     },
     "execution_count": 150,
     "metadata": {},
     "output_type": "execute_result"
    }
   ],
   "source": [
    "df_play_tmp.fillna(3592000)\n",
    "df_down_tmp.fillna(3592000)\n",
    "df_search_tmp.fillna(3592000)"
   ]
  },
  {
   "cell_type": "code",
   "execution_count": 152,
   "metadata": {},
   "outputs": [
    {
     "data": {
      "text/plain": [
       "DataFrame[uid: string, most_recent_play_date: date, last_play_date: date, play_recency: bigint]"
      ]
     },
     "execution_count": 152,
     "metadata": {},
     "output_type": "execute_result"
    }
   ],
   "source": [
    "df_play_tmp"
   ]
  },
  {
   "cell_type": "code",
   "execution_count": 153,
   "metadata": {
    "collapsed": true
   },
   "outputs": [],
   "source": [
    "df_play_recent = df_label.select('uid').join(df_play_tmp.select('uid','play_recency'),on='uid',how='left')\n",
    "df_down_recent = df_label.select('uid').join(df_down_tmp.select('uid','down_recency'),on='uid',how='left')\n",
    "df_search_recent = df_label.select('uid').join(df_search_tmp.select('uid','search_recency'),on='uid',how='left')"
   ]
  },
  {
   "cell_type": "code",
   "execution_count": 166,
   "metadata": {},
   "outputs": [
    {
     "data": {
      "text/plain": [
       "DataFrame[uid: string, play_recency: bigint]"
      ]
     },
     "execution_count": 166,
     "metadata": {},
     "output_type": "execute_result"
    }
   ],
   "source": [
    "df_play_recent"
   ]
  },
  {
   "cell_type": "markdown",
   "metadata": {},
   "source": [
    "### Profile features"
   ]
  },
  {
   "cell_type": "code",
   "execution_count": 154,
   "metadata": {
    "collapsed": true
   },
   "outputs": [],
   "source": [
    "df_play_feature_window = df_play.filter((F.col('date')>=feature_window_start_date) & (F.col('date')<=feature_window_end_date))\n",
    "df_profile_tmp = df_play_feature_window.select('uid','device').distinct()"
   ]
  },
  {
   "cell_type": "code",
   "execution_count": null,
   "metadata": {
    "collapsed": true
   },
   "outputs": [],
   "source": [
    "df_profile_tmp.groupBy('device').count().show()"
   ]
  },
  {
   "cell_type": "code",
   "execution_count": null,
   "metadata": {
    "collapsed": true
   },
   "outputs": [],
   "source": [
    "# check if one user has two devices\n",
    "df_profile_tmp.count()"
   ]
  },
  {
   "cell_type": "code",
   "execution_count": null,
   "metadata": {
    "collapsed": true
   },
   "outputs": [],
   "source": [
    "df_profile_tmp.distinct().count()"
   ]
  },
  {
   "cell_type": "code",
   "execution_count": 155,
   "metadata": {},
   "outputs": [
    {
     "name": "stdout",
     "output_type": "stream",
     "text": [
      "+-----------+-----+\n",
      "|device_type|count|\n",
      "+-----------+-----+\n",
      "|          1| 7272|\n",
      "|          2|50813|\n",
      "+-----------+-----+\n",
      "\n"
     ]
    }
   ],
   "source": [
    "df_profile_tmp = df_profile_tmp.withColumn('device_type',F.when(F.col('device')=='ip',1).otherwise(2))\n",
    "df_profile_tmp.groupBy('device_type').count().show()"
   ]
  },
  {
   "cell_type": "code",
   "execution_count": 156,
   "metadata": {},
   "outputs": [
    {
     "name": "stdout",
     "output_type": "stream",
     "text": [
      "+-----------+-----+\n",
      "|device_type|count|\n",
      "+-----------+-----+\n",
      "|       null|  141|\n",
      "|          1| 7272|\n",
      "|          2|50813|\n",
      "+-----------+-----+\n",
      "\n"
     ]
    }
   ],
   "source": [
    "df_profile = df_label.select('uid').join(df_profile_tmp.select('uid','device_type'),on='uid',how='left')\n",
    "df_profile.groupBy('device_type').count().show()"
   ]
  },
  {
   "cell_type": "markdown",
   "metadata": {},
   "source": [
    "### Total play time features"
   ]
  },
  {
   "cell_type": "code",
   "execution_count": null,
   "metadata": {
    "collapsed": true
   },
   "outputs": [],
   "source": [
    "# Can you generate total song play time features (using play_ds data) for different time window\n",
    "# using play data (need to clean play time first, play time may be negative in data)\n"
   ]
  },
  {
   "cell_type": "markdown",
   "metadata": {},
   "source": [
    "### Fancier frequency features"
   ]
  },
  {
   "cell_type": "code",
   "execution_count": null,
   "metadata": {
    "collapsed": true
   },
   "outputs": [],
   "source": [
    "# Can you generate counts of songs play 80% of their song length (using play_ds data) for different time window\n",
    "# using play data (need to clean play time and song length first, play time may be negative in data, song length may be zeros)\n"
   ]
  },
  {
   "cell_type": "markdown",
   "metadata": {},
   "source": [
    "# Form training data"
   ]
  },
  {
   "cell_type": "code",
   "execution_count": 157,
   "metadata": {
    "collapsed": true
   },
   "outputs": [],
   "source": [
    "def join_feature_data(df_master,df_feature_list):\n",
    "    for df_feature in df_feature_list:\n",
    "        df_master = df_master.join(df_feature,on='uid',how='left')\n",
    "        #df_master.persist() # uncomment if number of joins is too many\n",
    "    return df_master\n",
    "    "
   ]
  },
  {
   "cell_type": "code",
   "execution_count": 171,
   "metadata": {
    "collapsed": true
   },
   "outputs": [],
   "source": [
    "# join all behavior features\n",
    "df_model_final = join_feature_data(df_label,df_feature_list)"
   ]
  },
  {
   "cell_type": "code",
   "execution_count": 172,
   "metadata": {
    "collapsed": true
   },
   "outputs": [],
   "source": [
    "# join all profile features\n",
    "df_model_final = join_feature_data(df_model_final,[df_profile])"
   ]
  },
  {
   "cell_type": "code",
   "execution_count": 173,
   "metadata": {},
   "outputs": [
    {
     "data": {
      "text/plain": [
       "DataFrame[uid: string, device_type: int]"
      ]
     },
     "execution_count": 173,
     "metadata": {},
     "output_type": "execute_result"
    }
   ],
   "source": [
    "df_profile"
   ]
  },
  {
   "cell_type": "code",
   "execution_count": 174,
   "metadata": {
    "collapsed": true
   },
   "outputs": [],
   "source": [
    "#join all recency features\n",
    "df_model_final = join_feature_data(df_model_final,[df_play_recent])\n",
    "df_model_final = join_feature_data(df_model_final,[df_down_recent])\n",
    "df_model_final = join_feature_data(df_model_final,[df_search_recent])"
   ]
  },
  {
   "cell_type": "code",
   "execution_count": 175,
   "metadata": {},
   "outputs": [
    {
     "data": {
      "text/plain": [
       "DataFrame[uid: string, label: int, freq_P_last_1: bigint, freq_P_last_3: bigint, freq_P_last_7: bigint, freq_P_last_14: bigint, freq_P_last_30: bigint, freq_D_last_1: bigint, freq_D_last_3: bigint, freq_D_last_7: bigint, freq_D_last_14: bigint, freq_D_last_30: bigint, freq_S_last_1: bigint, freq_S_last_3: bigint, freq_S_last_7: bigint, freq_S_last_14: bigint, freq_S_last_30: bigint, device_type: int, play_recency: bigint, down_recency: bigint, search_recency: bigint]"
      ]
     },
     "execution_count": 175,
     "metadata": {},
     "output_type": "execute_result"
    }
   ],
   "source": [
    "df_model_final"
   ]
  },
  {
   "cell_type": "code",
   "execution_count": 176,
   "metadata": {
    "collapsed": true
   },
   "outputs": [],
   "source": [
    "df_model_final.fillna(0).toPandas().to_csv('../data/df_model_final.csv',index=False)"
   ]
  },
  {
   "cell_type": "code",
   "execution_count": null,
   "metadata": {
    "collapsed": true
   },
   "outputs": [],
   "source": []
  }
 ],
 "metadata": {
  "kernelspec": {
   "display_name": "Python 3",
   "language": "python",
   "name": "python3"
  },
  "language_info": {
   "codemirror_mode": {
    "name": "ipython",
    "version": 3
   },
   "file_extension": ".py",
   "mimetype": "text/x-python",
   "name": "python",
   "nbconvert_exporter": "python",
   "pygments_lexer": "ipython3",
   "version": "3.6.3"
  }
 },
 "nbformat": 4,
 "nbformat_minor": 2
}
